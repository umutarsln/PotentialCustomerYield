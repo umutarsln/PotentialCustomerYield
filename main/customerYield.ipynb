{
 "cells": [
  {
   "cell_type": "code",
   "execution_count": 2,
   "metadata": {},
   "outputs": [],
   "source": [
    "import pandas as pd\n",
    "import numpy as np\n",
    "import seaborn as sns\n",
    "\n",
    "pd.set_option(\"display.max_columns\",None)\n",
    "pd.set_option(\"display.width\",500)\n",
    "pd.set_option(\"display.float_format\", lambda x: '%.2f' % x)"
   ]
  },
  {
   "cell_type": "markdown",
   "metadata": {},
   "source": [
    "### 1- miuul_gezinomi.xlsx dosyasını okutunuz ve veri seti ile ilgili genel bilgileri gösteriniz.."
   ]
  },
  {
   "cell_type": "code",
   "execution_count": 3,
   "metadata": {},
   "outputs": [
    {
     "name": "stdout",
     "output_type": "stream",
     "text": [
      "###Shape###\n",
      "(59164, 8)\n",
      "###Types###\n",
      "SaleDate              datetime64[ns]\n",
      "CheckInDate           datetime64[ns]\n",
      "Price                        float64\n",
      "ConceptName                   object\n",
      "SaleCityName                  object\n",
      "CInDay                        object\n",
      "SaleCheckInDayDiff             int64\n",
      "Seasons                       object\n",
      "dtype: object\n",
      "###Head###\n",
      "         SaleDate CheckInDate  Price     ConceptName SaleCityName    CInDay  SaleCheckInDayDiff Seasons\n",
      "SaleId                                                                                                 \n",
      "415122 2022-12-03  2022-12-03  79.30    Herşey Dahil      Antalya  Saturday                   0     Low\n",
      "415103 2022-12-03  2022-12-03  45.97  Yarım Pansiyon      Antalya  Saturday                   0     Low\n",
      "404034 2022-09-12  2022-09-13  77.84    Herşey Dahil      Antalya   Tuesday                   1    High\n",
      "415094 2022-12-03  2022-12-10 222.71  Yarım Pansiyon        İzmir  Saturday                   7     Low\n",
      "414951 2022-12-01  2022-12-03 140.48  Yarım Pansiyon        İzmir  Saturday                   2     Low\n",
      "###Tail###\n",
      "         SaleDate CheckInDate  Price     ConceptName SaleCityName     CInDay  SaleCheckInDayDiff Seasons\n",
      "SaleId                                                                                                  \n",
      "51817  2016-01-05  2016-10-10  54.30    Herşey Dahil      Antalya     Monday                 279     Low\n",
      "51816  2016-01-05  2016-10-10  54.30    Herşey Dahil      Antalya     Monday                 279     Low\n",
      "51814  2016-01-05  2016-01-06  40.56    Herşey Dahil        Diğer  Wednesday                   1     Low\n",
      "51736  2016-01-04  2016-01-05  69.85  Yarım Pansiyon        Diğer    Tuesday                   1     Low\n",
      "51731  2016-01-04  2016-08-22 158.94    Herşey Dahil      Antalya     Monday                 231    High\n",
      "###NA###\n",
      "SaleDate               0\n",
      "CheckInDate            0\n",
      "Price                 13\n",
      "ConceptName            0\n",
      "SaleCityName           0\n",
      "CInDay                 0\n",
      "SaleCheckInDayDiff     0\n",
      "Seasons                0\n",
      "dtype: int64\n",
      "###Quantiles###\n",
      "                      count  mean   std  min   0%    5%   50%    95%    99%    100%     max\n",
      "Price              59151.00 61.35 51.38 0.00 0.00 19.64 54.26 125.46 172.75 4880.47 4880.47\n",
      "SaleCheckInDayDiff 59164.00 31.84 51.49 0.00 0.00  0.00 10.00 157.00 223.00  630.00  630.00\n"
     ]
    }
   ],
   "source": [
    "df = pd.read_excel(\"../dataset/miuul_gezinomi.xlsx\")\n",
    "pd.DataFrame.set_index(df,\"SaleId\", inplace=True)\n",
    "\n",
    "def check_df(dataframe, head=5):\n",
    "    print(\"###Shape###\")\n",
    "    print(dataframe.shape)\n",
    "    print(\"###Types###\")\n",
    "    print(dataframe.dtypes)\n",
    "    print(\"###Head###\")\n",
    "    print(dataframe.head(head))\n",
    "    print(\"###Tail###\")\n",
    "    print(dataframe.tail(head))\n",
    "    print(\"###NA###\")\n",
    "    print(dataframe.isnull().sum())\n",
    "    print(\"###Quantiles###\")\n",
    "    print(dataframe.describe([0,0.05,0.50,0.95,0.99,1]).T)\n",
    "\n",
    "check_df(df)"
   ]
  },
  {
   "cell_type": "markdown",
   "metadata": {},
   "source": [
    "### 2- Kaç unique şehir vardır? Frekansları nedir?"
   ]
  },
  {
   "cell_type": "code",
   "execution_count": 15,
   "metadata": {},
   "outputs": [
    {
     "data": {
      "text/plain": [
       "6"
      ]
     },
     "execution_count": 15,
     "metadata": {},
     "output_type": "execute_result"
    }
   ],
   "source": [
    "df[\"SaleCityName\"].nunique()"
   ]
  },
  {
   "cell_type": "code",
   "execution_count": 16,
   "metadata": {},
   "outputs": [
    {
     "data": {
      "text/plain": [
       "Antalya    31649\n",
       "Muğla      10662\n",
       "Aydın      10646\n",
       "Diğer       3245\n",
       "İzmir       2507\n",
       "Girne        455\n",
       "Name: SaleCityName, dtype: int64"
      ]
     },
     "execution_count": 16,
     "metadata": {},
     "output_type": "execute_result"
    }
   ],
   "source": [
    "df[\"SaleCityName\"].value_counts()"
   ]
  },
  {
   "cell_type": "markdown",
   "metadata": {},
   "source": [
    "### 3- Kaç unique Concept vardır?"
   ]
  },
  {
   "cell_type": "code",
   "execution_count": 17,
   "metadata": {},
   "outputs": [
    {
     "data": {
      "text/plain": [
       "3"
      ]
     },
     "execution_count": 17,
     "metadata": {},
     "output_type": "execute_result"
    }
   ],
   "source": [
    "df[\"ConceptName\"].nunique()"
   ]
  },
  {
   "cell_type": "markdown",
   "metadata": {},
   "source": [
    "### 4- Hangi Concept’den kaçar tane satış gerçekleşmiş?"
   ]
  },
  {
   "cell_type": "code",
   "execution_count": 18,
   "metadata": {},
   "outputs": [
    {
     "data": {
      "text/plain": [
       "Herşey Dahil      53186\n",
       "Yarım Pansiyon     3559\n",
       "Oda + Kahvaltı     2419\n",
       "Name: ConceptName, dtype: int64"
      ]
     },
     "execution_count": 18,
     "metadata": {},
     "output_type": "execute_result"
    }
   ],
   "source": [
    "df[\"ConceptName\"].value_counts()"
   ]
  },
  {
   "cell_type": "markdown",
   "metadata": {},
   "source": [
    "### 5- Şehirlere göre satışlardan toplam ne kadar kazanılmış?"
   ]
  },
  {
   "cell_type": "code",
   "execution_count": 24,
   "metadata": {},
   "outputs": [
    {
     "data": {
      "text/html": [
       "<div>\n",
       "<style scoped>\n",
       "    .dataframe tbody tr th:only-of-type {\n",
       "        vertical-align: middle;\n",
       "    }\n",
       "\n",
       "    .dataframe tbody tr th {\n",
       "        vertical-align: top;\n",
       "    }\n",
       "\n",
       "    .dataframe thead th {\n",
       "        text-align: right;\n",
       "    }\n",
       "</style>\n",
       "<table border=\"1\" class=\"dataframe\">\n",
       "  <thead>\n",
       "    <tr style=\"text-align: right;\">\n",
       "      <th></th>\n",
       "      <th>Price</th>\n",
       "    </tr>\n",
       "    <tr>\n",
       "      <th>SaleCityName</th>\n",
       "      <th></th>\n",
       "    </tr>\n",
       "  </thead>\n",
       "  <tbody>\n",
       "    <tr>\n",
       "      <th>Antalya</th>\n",
       "      <td>2041911.10</td>\n",
       "    </tr>\n",
       "    <tr>\n",
       "      <th>Aydın</th>\n",
       "      <td>573296.01</td>\n",
       "    </tr>\n",
       "    <tr>\n",
       "      <th>Diğer</th>\n",
       "      <td>154572.29</td>\n",
       "    </tr>\n",
       "    <tr>\n",
       "      <th>Girne</th>\n",
       "      <td>27065.03</td>\n",
       "    </tr>\n",
       "    <tr>\n",
       "      <th>Muğla</th>\n",
       "      <td>665842.21</td>\n",
       "    </tr>\n",
       "    <tr>\n",
       "      <th>İzmir</th>\n",
       "      <td>165934.83</td>\n",
       "    </tr>\n",
       "  </tbody>\n",
       "</table>\n",
       "</div>"
      ],
      "text/plain": [
       "                  Price\n",
       "SaleCityName           \n",
       "Antalya      2041911.10\n",
       "Aydın         573296.01\n",
       "Diğer         154572.29\n",
       "Girne          27065.03\n",
       "Muğla         665842.21\n",
       "İzmir         165934.83"
      ]
     },
     "execution_count": 24,
     "metadata": {},
     "output_type": "execute_result"
    }
   ],
   "source": [
    "#df.groupby(\"SaleCityName\")[\"Price\"].sum()\n",
    "df.groupby(\"SaleCityName\").agg({\"Price\": \"sum\"})"
   ]
  },
  {
   "cell_type": "markdown",
   "metadata": {},
   "source": [
    "### 6- Concept türlerine göre göre ne kadar kazanılmış?"
   ]
  },
  {
   "cell_type": "code",
   "execution_count": 25,
   "metadata": {},
   "outputs": [
    {
     "data": {
      "text/html": [
       "<div>\n",
       "<style scoped>\n",
       "    .dataframe tbody tr th:only-of-type {\n",
       "        vertical-align: middle;\n",
       "    }\n",
       "\n",
       "    .dataframe tbody tr th {\n",
       "        vertical-align: top;\n",
       "    }\n",
       "\n",
       "    .dataframe thead th {\n",
       "        text-align: right;\n",
       "    }\n",
       "</style>\n",
       "<table border=\"1\" class=\"dataframe\">\n",
       "  <thead>\n",
       "    <tr style=\"text-align: right;\">\n",
       "      <th></th>\n",
       "      <th>Price</th>\n",
       "    </tr>\n",
       "    <tr>\n",
       "      <th>ConceptName</th>\n",
       "      <th></th>\n",
       "    </tr>\n",
       "  </thead>\n",
       "  <tbody>\n",
       "    <tr>\n",
       "      <th>Herşey Dahil</th>\n",
       "      <td>3332910.77</td>\n",
       "    </tr>\n",
       "    <tr>\n",
       "      <th>Oda + Kahvaltı</th>\n",
       "      <td>121308.35</td>\n",
       "    </tr>\n",
       "    <tr>\n",
       "      <th>Yarım Pansiyon</th>\n",
       "      <td>174402.35</td>\n",
       "    </tr>\n",
       "  </tbody>\n",
       "</table>\n",
       "</div>"
      ],
      "text/plain": [
       "                    Price\n",
       "ConceptName              \n",
       "Herşey Dahil   3332910.77\n",
       "Oda + Kahvaltı  121308.35\n",
       "Yarım Pansiyon  174402.35"
      ]
     },
     "execution_count": 25,
     "metadata": {},
     "output_type": "execute_result"
    }
   ],
   "source": [
    "#df.groupby(\"ConceptName\")[\"Price\"].sum()\n",
    "df.groupby(\"ConceptName\").agg({\"Price\": \"sum\"})"
   ]
  },
  {
   "cell_type": "markdown",
   "metadata": {},
   "source": [
    "### 7- Şehirlere göre PRICE ortalamaları nedir?"
   ]
  },
  {
   "cell_type": "code",
   "execution_count": 26,
   "metadata": {},
   "outputs": [
    {
     "data": {
      "text/html": [
       "<div>\n",
       "<style scoped>\n",
       "    .dataframe tbody tr th:only-of-type {\n",
       "        vertical-align: middle;\n",
       "    }\n",
       "\n",
       "    .dataframe tbody tr th {\n",
       "        vertical-align: top;\n",
       "    }\n",
       "\n",
       "    .dataframe thead th {\n",
       "        text-align: right;\n",
       "    }\n",
       "</style>\n",
       "<table border=\"1\" class=\"dataframe\">\n",
       "  <thead>\n",
       "    <tr style=\"text-align: right;\">\n",
       "      <th></th>\n",
       "      <th>Price</th>\n",
       "    </tr>\n",
       "    <tr>\n",
       "      <th>SaleCityName</th>\n",
       "      <th></th>\n",
       "    </tr>\n",
       "  </thead>\n",
       "  <tbody>\n",
       "    <tr>\n",
       "      <th>Antalya</th>\n",
       "      <td>64.52</td>\n",
       "    </tr>\n",
       "    <tr>\n",
       "      <th>Aydın</th>\n",
       "      <td>53.86</td>\n",
       "    </tr>\n",
       "    <tr>\n",
       "      <th>Diğer</th>\n",
       "      <td>47.71</td>\n",
       "    </tr>\n",
       "    <tr>\n",
       "      <th>Girne</th>\n",
       "      <td>59.48</td>\n",
       "    </tr>\n",
       "    <tr>\n",
       "      <th>Muğla</th>\n",
       "      <td>62.46</td>\n",
       "    </tr>\n",
       "    <tr>\n",
       "      <th>İzmir</th>\n",
       "      <td>66.27</td>\n",
       "    </tr>\n",
       "  </tbody>\n",
       "</table>\n",
       "</div>"
      ],
      "text/plain": [
       "              Price\n",
       "SaleCityName       \n",
       "Antalya       64.52\n",
       "Aydın         53.86\n",
       "Diğer         47.71\n",
       "Girne         59.48\n",
       "Muğla         62.46\n",
       "İzmir         66.27"
      ]
     },
     "execution_count": 26,
     "metadata": {},
     "output_type": "execute_result"
    }
   ],
   "source": [
    "#df.groupby(\"SaleCityName\")[\"Price\"].mean()\n",
    "df.groupby(\"SaleCityName\").agg({\"Price\": \"mean\"})"
   ]
  },
  {
   "cell_type": "markdown",
   "metadata": {},
   "source": [
    "### 8- Conceptlere göre PRICE ortalamaları nedir?"
   ]
  },
  {
   "cell_type": "code",
   "execution_count": 27,
   "metadata": {},
   "outputs": [
    {
     "data": {
      "text/html": [
       "<div>\n",
       "<style scoped>\n",
       "    .dataframe tbody tr th:only-of-type {\n",
       "        vertical-align: middle;\n",
       "    }\n",
       "\n",
       "    .dataframe tbody tr th {\n",
       "        vertical-align: top;\n",
       "    }\n",
       "\n",
       "    .dataframe thead th {\n",
       "        text-align: right;\n",
       "    }\n",
       "</style>\n",
       "<table border=\"1\" class=\"dataframe\">\n",
       "  <thead>\n",
       "    <tr style=\"text-align: right;\">\n",
       "      <th></th>\n",
       "      <th>Price</th>\n",
       "    </tr>\n",
       "    <tr>\n",
       "      <th>ConceptName</th>\n",
       "      <th></th>\n",
       "    </tr>\n",
       "  </thead>\n",
       "  <tbody>\n",
       "    <tr>\n",
       "      <th>Herşey Dahil</th>\n",
       "      <td>62.67</td>\n",
       "    </tr>\n",
       "    <tr>\n",
       "      <th>Oda + Kahvaltı</th>\n",
       "      <td>50.25</td>\n",
       "    </tr>\n",
       "    <tr>\n",
       "      <th>Yarım Pansiyon</th>\n",
       "      <td>49.03</td>\n",
       "    </tr>\n",
       "  </tbody>\n",
       "</table>\n",
       "</div>"
      ],
      "text/plain": [
       "                Price\n",
       "ConceptName          \n",
       "Herşey Dahil    62.67\n",
       "Oda + Kahvaltı  50.25\n",
       "Yarım Pansiyon  49.03"
      ]
     },
     "execution_count": 27,
     "metadata": {},
     "output_type": "execute_result"
    }
   ],
   "source": [
    "#df.groupby(\"ConceptName\")[\"Price\"].mean()\n",
    "df.groupby(\"ConceptName\").agg({\"Price\": \"mean\"})"
   ]
  },
  {
   "cell_type": "markdown",
   "metadata": {},
   "source": [
    "### 9- Şehir-Concept kırılımında PRICE ortalamaları nedir?"
   ]
  },
  {
   "cell_type": "code",
   "execution_count": 28,
   "metadata": {},
   "outputs": [
    {
     "data": {
      "text/html": [
       "<div>\n",
       "<style scoped>\n",
       "    .dataframe tbody tr th:only-of-type {\n",
       "        vertical-align: middle;\n",
       "    }\n",
       "\n",
       "    .dataframe tbody tr th {\n",
       "        vertical-align: top;\n",
       "    }\n",
       "\n",
       "    .dataframe thead th {\n",
       "        text-align: right;\n",
       "    }\n",
       "</style>\n",
       "<table border=\"1\" class=\"dataframe\">\n",
       "  <thead>\n",
       "    <tr style=\"text-align: right;\">\n",
       "      <th></th>\n",
       "      <th></th>\n",
       "      <th>Price</th>\n",
       "    </tr>\n",
       "    <tr>\n",
       "      <th>SaleCityName</th>\n",
       "      <th>ConceptName</th>\n",
       "      <th></th>\n",
       "    </tr>\n",
       "  </thead>\n",
       "  <tbody>\n",
       "    <tr>\n",
       "      <th rowspan=\"3\" valign=\"top\">Antalya</th>\n",
       "      <th>Herşey Dahil</th>\n",
       "      <td>64.52</td>\n",
       "    </tr>\n",
       "    <tr>\n",
       "      <th>Oda + Kahvaltı</th>\n",
       "      <td>63.50</td>\n",
       "    </tr>\n",
       "    <tr>\n",
       "      <th>Yarım Pansiyon</th>\n",
       "      <td>67.19</td>\n",
       "    </tr>\n",
       "    <tr>\n",
       "      <th rowspan=\"3\" valign=\"top\">Aydın</th>\n",
       "      <th>Herşey Dahil</th>\n",
       "      <td>54.00</td>\n",
       "    </tr>\n",
       "    <tr>\n",
       "      <th>Oda + Kahvaltı</th>\n",
       "      <td>34.46</td>\n",
       "    </tr>\n",
       "    <tr>\n",
       "      <th>Yarım Pansiyon</th>\n",
       "      <td>30.02</td>\n",
       "    </tr>\n",
       "    <tr>\n",
       "      <th rowspan=\"3\" valign=\"top\">Diğer</th>\n",
       "      <th>Herşey Dahil</th>\n",
       "      <td>84.77</td>\n",
       "    </tr>\n",
       "    <tr>\n",
       "      <th>Oda + Kahvaltı</th>\n",
       "      <td>37.60</td>\n",
       "    </tr>\n",
       "    <tr>\n",
       "      <th>Yarım Pansiyon</th>\n",
       "      <td>42.11</td>\n",
       "    </tr>\n",
       "    <tr>\n",
       "      <th rowspan=\"3\" valign=\"top\">Girne</th>\n",
       "      <th>Herşey Dahil</th>\n",
       "      <td>97.68</td>\n",
       "    </tr>\n",
       "    <tr>\n",
       "      <th>Oda + Kahvaltı</th>\n",
       "      <td>39.78</td>\n",
       "    </tr>\n",
       "    <tr>\n",
       "      <th>Yarım Pansiyon</th>\n",
       "      <td>53.25</td>\n",
       "    </tr>\n",
       "    <tr>\n",
       "      <th rowspan=\"3\" valign=\"top\">Muğla</th>\n",
       "      <th>Herşey Dahil</th>\n",
       "      <td>63.02</td>\n",
       "    </tr>\n",
       "    <tr>\n",
       "      <th>Oda + Kahvaltı</th>\n",
       "      <td>59.04</td>\n",
       "    </tr>\n",
       "    <tr>\n",
       "      <th>Yarım Pansiyon</th>\n",
       "      <td>45.12</td>\n",
       "    </tr>\n",
       "    <tr>\n",
       "      <th rowspan=\"3\" valign=\"top\">İzmir</th>\n",
       "      <th>Herşey Dahil</th>\n",
       "      <td>74.70</td>\n",
       "    </tr>\n",
       "    <tr>\n",
       "      <th>Oda + Kahvaltı</th>\n",
       "      <td>41.32</td>\n",
       "    </tr>\n",
       "    <tr>\n",
       "      <th>Yarım Pansiyon</th>\n",
       "      <td>59.61</td>\n",
       "    </tr>\n",
       "  </tbody>\n",
       "</table>\n",
       "</div>"
      ],
      "text/plain": [
       "                             Price\n",
       "SaleCityName ConceptName          \n",
       "Antalya      Herşey Dahil    64.52\n",
       "             Oda + Kahvaltı  63.50\n",
       "             Yarım Pansiyon  67.19\n",
       "Aydın        Herşey Dahil    54.00\n",
       "             Oda + Kahvaltı  34.46\n",
       "             Yarım Pansiyon  30.02\n",
       "Diğer        Herşey Dahil    84.77\n",
       "             Oda + Kahvaltı  37.60\n",
       "             Yarım Pansiyon  42.11\n",
       "Girne        Herşey Dahil    97.68\n",
       "             Oda + Kahvaltı  39.78\n",
       "             Yarım Pansiyon  53.25\n",
       "Muğla        Herşey Dahil    63.02\n",
       "             Oda + Kahvaltı  59.04\n",
       "             Yarım Pansiyon  45.12\n",
       "İzmir        Herşey Dahil    74.70\n",
       "             Oda + Kahvaltı  41.32\n",
       "             Yarım Pansiyon  59.61"
      ]
     },
     "execution_count": 28,
     "metadata": {},
     "output_type": "execute_result"
    }
   ],
   "source": [
    "#df.groupby([\"SaleCityName\",\"ConceptName\"])[\"Price\"].mean()\n",
    "df.groupby([\"SaleCityName\",\"ConceptName\"]).agg({\"Price\": \"mean\"})"
   ]
  },
  {
   "cell_type": "markdown",
   "metadata": {},
   "source": [
    "# Task 2"
   ]
  },
  {
   "cell_type": "markdown",
   "metadata": {},
   "source": [
    "### SaleCheckInDayDiff değişkeni müşterinin CheckIn tarihinden ne kadar önce satin alımını tamamladığını gösterir.\n",
    "### Aralıkları ikna edici şekilde oluşturunuz.\n",
    "### Örneğin: ‘0_7’, ‘7_30', ‘30_90', ‘90_max’ aralıklarını kullanabilirsiniz.\n",
    "### Bu aralıklar için \"Last Minuters\", \"Potential Planners\", \"Planners\", \"Early Bookers“ isimlerini kullanabilirsiniz."
   ]
  },
  {
   "cell_type": "code",
   "execution_count": 24,
   "metadata": {},
   "outputs": [
    {
     "data": {
      "text/plain": [
       "SaleId\n",
       "415122     0 days\n",
       "415103     0 days\n",
       "404034     1 days\n",
       "415094     7 days\n",
       "414951     2 days\n",
       "           ...   \n",
       "51817    279 days\n",
       "51816    279 days\n",
       "51814      1 days\n",
       "51736      1 days\n",
       "51731    231 days\n",
       "Name: SaleCheckInDayDiff, Length: 59164, dtype: timedelta64[ns]"
      ]
     },
     "execution_count": 24,
     "metadata": {},
     "output_type": "execute_result"
    }
   ],
   "source": [
    "df[\"SaleCheckInDayDiff\"]\n"
   ]
  },
  {
   "cell_type": "code",
   "execution_count": 38,
   "metadata": {},
   "outputs": [],
   "source": [
    "bins = [-1,7,30,90, df[\"SaleCheckInDayDiff\"].max()]\n",
    "bins = pd.to_timedelta(bins)\n",
    "categories = [\"Last Minute\", \"Potential Planners\", \"Planners\", \"Early Bookers\"]\n",
    "\n",
    "df[\"EB_score\"] = pd.cut(df[\"SaleCheckInDayDiff\"], bins, labels= categories)\n",
    "df.head(50).to_excel(\"eb_score.xlsx\", index=False)\n"
   ]
  },
  {
   "cell_type": "code",
   "execution_count": 39,
   "metadata": {},
   "outputs": [
    {
     "data": {
      "text/plain": [
       "TimedeltaIndex(['-1 days +23:59:59.999999999', '0 days 00:00:00.000000007', '0 days 00:00:00.000000030', '0 days 00:00:00.000000090', '630 days 00:00:00'], dtype='timedelta64[ns]', freq=None)"
      ]
     },
     "execution_count": 39,
     "metadata": {},
     "output_type": "execute_result"
    }
   ],
   "source": [
    "bins"
   ]
  },
  {
   "cell_type": "code",
   "execution_count": null,
   "metadata": {},
   "outputs": [],
   "source": []
  }
 ],
 "metadata": {
  "kernelspec": {
   "display_name": "base",
   "language": "python",
   "name": "python3"
  },
  "language_info": {
   "codemirror_mode": {
    "name": "ipython",
    "version": 3
   },
   "file_extension": ".py",
   "mimetype": "text/x-python",
   "name": "python",
   "nbconvert_exporter": "python",
   "pygments_lexer": "ipython3",
   "version": "3.9.7"
  },
  "orig_nbformat": 4
 },
 "nbformat": 4,
 "nbformat_minor": 2
}
