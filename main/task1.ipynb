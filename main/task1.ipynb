{
 "cells": [
  {
   "cell_type": "code",
   "execution_count": 1,
   "metadata": {},
   "outputs": [],
   "source": [
    "import pandas as pd\n",
    "import numpy as np\n",
    "import seaborn as sns\n",
    "\n",
    "pd.set_option(\"display.max_columns\",None)\n",
    "pd.set_option(\"display.width\",500)\n",
    "pd.set_option(\"display.float_format\", lambda x: '%.2f' % x)"
   ]
  },
  {
   "cell_type": "code",
   "execution_count": 4,
   "metadata": {},
   "outputs": [
    {
     "name": "stdout",
     "output_type": "stream",
     "text": [
      "###Shape###\n",
      "(59164, 8)\n",
      "###Types###\n",
      "SaleDate              datetime64[ns]\n",
      "CheckInDate           datetime64[ns]\n",
      "Price                        float64\n",
      "ConceptName                   object\n",
      "SaleCityName                  object\n",
      "CInDay                        object\n",
      "SaleCheckInDayDiff             int64\n",
      "Seasons                       object\n",
      "dtype: object\n",
      "###Head###\n",
      "         SaleDate CheckInDate  Price     ConceptName SaleCityName    CInDay  SaleCheckInDayDiff Seasons\n",
      "SaleId                                                                                                 \n",
      "415122 2022-12-03  2022-12-03  79.30    Herşey Dahil      Antalya  Saturday                   0     Low\n",
      "415103 2022-12-03  2022-12-03  45.97  Yarım Pansiyon      Antalya  Saturday                   0     Low\n",
      "404034 2022-09-12  2022-09-13  77.84    Herşey Dahil      Antalya   Tuesday                   1    High\n",
      "415094 2022-12-03  2022-12-10 222.71  Yarım Pansiyon        İzmir  Saturday                   7     Low\n",
      "414951 2022-12-01  2022-12-03 140.48  Yarım Pansiyon        İzmir  Saturday                   2     Low\n",
      "###Tail###\n",
      "         SaleDate CheckInDate  Price     ConceptName SaleCityName     CInDay  SaleCheckInDayDiff Seasons\n",
      "SaleId                                                                                                  \n",
      "51817  2016-01-05  2016-10-10  54.30    Herşey Dahil      Antalya     Monday                 279     Low\n",
      "51816  2016-01-05  2016-10-10  54.30    Herşey Dahil      Antalya     Monday                 279     Low\n",
      "51814  2016-01-05  2016-01-06  40.56    Herşey Dahil        Diğer  Wednesday                   1     Low\n",
      "51736  2016-01-04  2016-01-05  69.85  Yarım Pansiyon        Diğer    Tuesday                   1     Low\n",
      "51731  2016-01-04  2016-08-22 158.94    Herşey Dahil      Antalya     Monday                 231    High\n",
      "###NA###\n",
      "SaleDate               0\n",
      "CheckInDate            0\n",
      "Price                 13\n",
      "ConceptName            0\n",
      "SaleCityName           0\n",
      "CInDay                 0\n",
      "SaleCheckInDayDiff     0\n",
      "Seasons                0\n",
      "dtype: int64\n",
      "###Quantiles###\n",
      "                      count  mean   std  min   0%    5%   50%    95%    99%    100%     max\n",
      "Price              59151.00 61.35 51.38 0.00 0.00 19.64 54.26 125.46 172.75 4880.47 4880.47\n",
      "SaleCheckInDayDiff 59164.00 31.84 51.49 0.00 0.00  0.00 10.00 157.00 223.00  630.00  630.00\n"
     ]
    }
   ],
   "source": [
    "## 1- miuul_gezinomi.xlsx dosyasını okutunuz ve veri seti ile ilgili genel bilgileri gösteriniz..\n",
    "df = pd.read_excel(\"../dataset/miuul_gezinomi.xlsx\")\n",
    "pd.DataFrame.set_index(df,\"SaleId\", inplace=True)\n",
    "\n",
    "def check_df(dataframe, head=5):\n",
    "    print(\"###Shape###\")\n",
    "    print(dataframe.shape)\n",
    "    print(\"###Types###\")\n",
    "    print(dataframe.dtypes)\n",
    "    print(\"###Head###\")\n",
    "    print(dataframe.head(head))\n",
    "    print(\"###Tail###\")\n",
    "    print(dataframe.tail(head))\n",
    "    print(\"###NA###\")\n",
    "    print(dataframe.isnull().sum())\n",
    "    print(\"###Quantiles###\")\n",
    "    print(dataframe.describe([0,0.05,0.50,0.95,0.99,1]).T)\n",
    "\n",
    "check_df(df)"
   ]
  },
  {
   "cell_type": "code",
   "execution_count": null,
   "metadata": {},
   "outputs": [],
   "source": []
  }
 ],
 "metadata": {
  "kernelspec": {
   "display_name": "base",
   "language": "python",
   "name": "python3"
  },
  "language_info": {
   "codemirror_mode": {
    "name": "ipython",
    "version": 3
   },
   "file_extension": ".py",
   "mimetype": "text/x-python",
   "name": "python",
   "nbconvert_exporter": "python",
   "pygments_lexer": "ipython3",
   "version": "3.9.7"
  },
  "orig_nbformat": 4
 },
 "nbformat": 4,
 "nbformat_minor": 2
}
